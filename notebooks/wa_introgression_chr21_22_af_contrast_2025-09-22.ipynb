# West African introgression — compact notebook cell (chr21/22 demo)
import pandas as pd, numpy as np, glob, os, matplotlib.pyplot as plt

# ---- config (edit paths/patterns if needed) ----
WA_PATTERN  = "out/allelefreqs/*.WA*.tsv"
CEU_PATTERN = "out/allelefreqs/*.CEU*.tsv"
OUT = "results"
AF_WA_MIN, AF_CEU_MAX, DELTA_MIN = 0.70, 0.10, 0.40
os.makedirs(OUT, exist_ok=True)

def load_af(pattern):
    dfs=[]
    for f in sorted(glob.glob(pattern)):
        try: df=pd.read_csv(f, sep="\t")
        except: df=pd.read_csv(f, sep="\t", header=None)
        # normalize columns
        cols=set(map(str, df.columns))
        if "AF" not in cols and "INFO/AF" in cols: df=df.rename(columns={"INFO/AF":"AF"})
        if not {"CHROM","POS","REF","ALT","AF"}.issubset(df.columns):
            df=df.rename(columns={0:"CHROM",1:"POS",2:"REF",3:"ALT",4:"AF"})
        # basic cleaning
        df=df[["CHROM","POS","REF","ALT","AF"]].dropna()
        # handle multiallelic crudely: keep first ALT/AF
        df["ALT"]=df["ALT"].astype(str).str.split(",").str[0]
        df["AF"]=df["AF"].astype(str).str.split(",").str[0].astype(float)
        dfs.append(df)
    return pd.concat(dfs, ignore_index=True) if dfs else pd.DataFrame(columns=["CHROM","POS","REF","ALT","AF"])

wa  = load_af(WA_PATTERN).rename(columns={"AF":"AF_WA"})
ceu = load_af(CEU_PATTERN).rename(columns={"AF":"AF_CEU"})

# merge + delta
key=["CHROM","POS","REF","ALT"]
m = wa.merge(ceu, on=key, how="inner")
m["delta_AF"] = m["AF_WA"] - m["AF_CEU"]
m["abs_delta"] = m["delta_AF"].abs()

# candidates (heuristic)
cands = m.query("AF_WA>=@AF_WA_MIN and AF_CEU<=@AF_CEU_MAX and delta_AF>=@DELTA_MIN") \
         .sort_values(["delta_AF","AF_WA"], ascending=[False,False])

# save quick outputs
m.head(5000).to_csv(f"{OUT}/AF_merge_preview.tsv", sep="\t", index=False)
cands.to_csv(f"{OUT}/WA_vs_CEU_candidates.tsv", sep="\t", index=False)

print(f"Merged sites: {len(m):,}")
print(f"Candidates (Δ≥{DELTA_MIN}, WA≥{AF_WA_MIN}, CEU≤{AF_CEU_MAX}): {len(cands):,}")
if len(cands): display(cands.head(10))

# quick plot: ΔAF vs AF_WA
plt.figure()
plt.scatter(m["AF_WA"], m["delta_AF"], s=3, alpha=0.4)
plt.xlabel("AF (WA)"); plt.ylabel("ΔAF = AF_WA - AF_CEU")
plt.title("WA vs CEU — allele frequency contrast")
plt.show()

# optional: show qpDstat results if present (results/qpD_results.tsv with header: test D Z nSNP stderr)
qpD_path = f"{OUT}/qpD_results.tsv"
if os.path.exists(qpD_path):
    try:
        qpD = pd.read_csv(qpD_path, sep="\t")
        print("\nqpDstat preview:"); display(qpD.head())
    except Exception as e:
        print(f"Could not read {qpD_path}: {e}")

# tiny recap for your notebook
print("\nSaved:")
print(f" - {OUT}/AF_merge_preview.tsv")
print(f" - {OUT}/WA_vs_CEU_candidates.tsv")
